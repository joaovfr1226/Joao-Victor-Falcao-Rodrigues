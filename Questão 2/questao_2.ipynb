{
 "cells": [
  {
   "cell_type": "code",
   "execution_count": 1,
   "metadata": {},
   "outputs": [
    {
     "name": "stdout",
     "output_type": "stream",
     "text": [
      "Conexão bem-sucedida com o banco de dados: C:\\Users\\jvfal\\OneDrive\\Área de Trabalho\\Teste Analista Jr\\data_analytics_jr_test\\Questão 1\\test_analytics.db\n"
     ]
    }
   ],
   "source": [
    "import sqlite3\n",
    "\n",
    "# Função para conectar ao banco de dados\n",
    "def conectar_ao_banco(nome_banco):\n",
    "    try:\n",
    "        # Conecta ao banco de dados SQLite (ou cria se não existir)\n",
    "        conexao = sqlite3.connect(nome_banco)\n",
    "        print(f\"Conexão bem-sucedida com o banco de dados: {nome_banco}\")\n",
    "        return conexao\n",
    "    except sqlite3.Error as e:\n",
    "        print(f\"Erro ao conectar ao banco de dados: {e}\")\n",
    "        return None\n",
    "\n",
    "# Função para executar uma consulta SQL\n",
    "def executar_consulta(conexao, consulta_sql):\n",
    "    try:\n",
    "        # Cria um cursor para executar a consulta\n",
    "        cursor = conexao.cursor()\n",
    "        \n",
    "        # Executa a consulta\n",
    "        cursor.execute(consulta_sql)\n",
    "        \n",
    "        # Se a consulta for de seleção, recupera os resultados\n",
    "        if consulta_sql.strip().lower().startswith('select'):\n",
    "            resultados = cursor.fetchall()\n",
    "            return resultados\n",
    "        else:\n",
    "            # Para outras consultas (INSERT, UPDATE, DELETE), confirma as mudanças\n",
    "            conexao.commit()\n",
    "            return f\"{cursor.rowcount} linha(s) afetada(s)\"\n",
    "    \n",
    "    except sqlite3.Error as e:\n",
    "        print(f\"Erro ao executar a consulta: {e}\")\n",
    "        return None\n",
    "\n",
    "# Função principal\n",
    "nome_banco = r\"C:\\Users\\jvfal\\OneDrive\\Área de Trabalho\\Teste Analista Jr\\data_analytics_jr_test\\Questão 1\\test_analytics.db\"  # Substitua pelo nome do seu banco de dados\n",
    "conexao = conectar_ao_banco(nome_banco)\n",
    "\n",
    "if conexao:\n",
    "    # Exemplo de consulta SELECT\n",
    "    criar_tabela = \"\"\"CREATE TABLE alunos_escolas (\n",
    "    ID_ALUNO INTEGER,\n",
    "    ID_ESCOLA INTEGER\n",
    "    ); \"\"\"\n",
    "\n",
    "    alimentar_tabela = \"\"\"INSERT INTO alunos_escolas\n",
    "    SELECT \n",
    "    ID_ALUNO,\n",
    "    ID_ESCOLA\n",
    "    FROM alunos a\n",
    "    LEFT JOIN escolas e\n",
    "    ON a.CODESC = e.CODESC\n",
    "    AND a.DATABASE = e.DATABASE;\"\"\"  \n",
    "    executar_consulta(conexao, criar_tabela)\n",
    "    executar_consulta(conexao, alimentar_tabela)\n",
    "    \n",
    "    # Exemplo de consulta INSERT\n",
    "    # consulta_insert = \"INSERT INTO minha_tabela (coluna1, coluna2) VALUES ('valor1', 'valor2');\"\n",
    "    # resultado_insert = executar_consulta(conexao, consulta_insert)\n",
    "    # print(resultado_insert)\n",
    "    \n",
    "    # Fecha a conexão ao banco\n",
    "    conexao.close()\n"
   ]
  }
 ],
 "metadata": {
  "kernelspec": {
   "display_name": "base",
   "language": "python",
   "name": "python3"
  },
  "language_info": {
   "codemirror_mode": {
    "name": "ipython",
    "version": 3
   },
   "file_extension": ".py",
   "mimetype": "text/x-python",
   "name": "python",
   "nbconvert_exporter": "python",
   "pygments_lexer": "ipython3",
   "version": "3.12.7"
  }
 },
 "nbformat": 4,
 "nbformat_minor": 2
}
